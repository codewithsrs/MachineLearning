{
 "cells": [
  {
   "cell_type": "code",
   "execution_count": 1,
   "id": "3dd6e729",
   "metadata": {
    "_cell_guid": "b1076dfc-b9ad-4769-8c92-a6c4dae69d19",
    "_uuid": "8f2839f25d086af736a60e9eeb907d3b93b6e0e5",
    "execution": {
     "iopub.execute_input": "2024-01-07T16:35:40.492212Z",
     "iopub.status.busy": "2024-01-07T16:35:40.491736Z",
     "iopub.status.idle": "2024-01-07T16:35:42.684524Z",
     "shell.execute_reply": "2024-01-07T16:35:42.683464Z"
    },
    "papermill": {
     "duration": 2.203772,
     "end_time": "2024-01-07T16:35:42.687457",
     "exception": false,
     "start_time": "2024-01-07T16:35:40.483685",
     "status": "completed"
    },
    "tags": []
   },
   "outputs": [],
   "source": [
    "import pandas as pd\n",
    "import numpy as np\n",
    "import matplotlib.pyplot as plt\n",
    "import seaborn as sns"
   ]
  },
  {
   "cell_type": "code",
   "execution_count": 2,
   "id": "9d2561e8",
   "metadata": {
    "execution": {
     "iopub.execute_input": "2024-01-07T16:35:42.702514Z",
     "iopub.status.busy": "2024-01-07T16:35:42.701880Z",
     "iopub.status.idle": "2024-01-07T16:35:43.082967Z",
     "shell.execute_reply": "2024-01-07T16:35:43.081798Z"
    },
    "papermill": {
     "duration": 0.391723,
     "end_time": "2024-01-07T16:35:43.085631",
     "exception": false,
     "start_time": "2024-01-07T16:35:42.693908",
     "status": "completed"
    },
    "tags": []
   },
   "outputs": [],
   "source": [
    "train = pd.read_csv(\"/kaggle/input/playground-series-s4e1/train.csv\")"
   ]
  },
  {
   "cell_type": "code",
   "execution_count": 3,
   "id": "4226b020",
   "metadata": {
    "execution": {
     "iopub.execute_input": "2024-01-07T16:35:43.101709Z",
     "iopub.status.busy": "2024-01-07T16:35:43.100937Z",
     "iopub.status.idle": "2024-01-07T16:35:43.134215Z",
     "shell.execute_reply": "2024-01-07T16:35:43.132985Z"
    },
    "papermill": {
     "duration": 0.043649,
     "end_time": "2024-01-07T16:35:43.136634",
     "exception": false,
     "start_time": "2024-01-07T16:35:43.092985",
     "status": "completed"
    },
    "tags": []
   },
   "outputs": [
    {
     "data": {
      "text/html": [
       "<div>\n",
       "<style scoped>\n",
       "    .dataframe tbody tr th:only-of-type {\n",
       "        vertical-align: middle;\n",
       "    }\n",
       "\n",
       "    .dataframe tbody tr th {\n",
       "        vertical-align: top;\n",
       "    }\n",
       "\n",
       "    .dataframe thead th {\n",
       "        text-align: right;\n",
       "    }\n",
       "</style>\n",
       "<table border=\"1\" class=\"dataframe\">\n",
       "  <thead>\n",
       "    <tr style=\"text-align: right;\">\n",
       "      <th></th>\n",
       "      <th>id</th>\n",
       "      <th>CustomerId</th>\n",
       "      <th>Surname</th>\n",
       "      <th>CreditScore</th>\n",
       "      <th>Geography</th>\n",
       "      <th>Gender</th>\n",
       "      <th>Age</th>\n",
       "      <th>Tenure</th>\n",
       "      <th>Balance</th>\n",
       "      <th>NumOfProducts</th>\n",
       "      <th>HasCrCard</th>\n",
       "      <th>IsActiveMember</th>\n",
       "      <th>EstimatedSalary</th>\n",
       "      <th>Exited</th>\n",
       "    </tr>\n",
       "  </thead>\n",
       "  <tbody>\n",
       "    <tr>\n",
       "      <th>0</th>\n",
       "      <td>0</td>\n",
       "      <td>15674932</td>\n",
       "      <td>Okwudilichukwu</td>\n",
       "      <td>668</td>\n",
       "      <td>France</td>\n",
       "      <td>Male</td>\n",
       "      <td>33.0</td>\n",
       "      <td>3</td>\n",
       "      <td>0.00</td>\n",
       "      <td>2</td>\n",
       "      <td>1.0</td>\n",
       "      <td>0.0</td>\n",
       "      <td>181449.97</td>\n",
       "      <td>0</td>\n",
       "    </tr>\n",
       "    <tr>\n",
       "      <th>1</th>\n",
       "      <td>1</td>\n",
       "      <td>15749177</td>\n",
       "      <td>Okwudiliolisa</td>\n",
       "      <td>627</td>\n",
       "      <td>France</td>\n",
       "      <td>Male</td>\n",
       "      <td>33.0</td>\n",
       "      <td>1</td>\n",
       "      <td>0.00</td>\n",
       "      <td>2</td>\n",
       "      <td>1.0</td>\n",
       "      <td>1.0</td>\n",
       "      <td>49503.50</td>\n",
       "      <td>0</td>\n",
       "    </tr>\n",
       "    <tr>\n",
       "      <th>2</th>\n",
       "      <td>2</td>\n",
       "      <td>15694510</td>\n",
       "      <td>Hsueh</td>\n",
       "      <td>678</td>\n",
       "      <td>France</td>\n",
       "      <td>Male</td>\n",
       "      <td>40.0</td>\n",
       "      <td>10</td>\n",
       "      <td>0.00</td>\n",
       "      <td>2</td>\n",
       "      <td>1.0</td>\n",
       "      <td>0.0</td>\n",
       "      <td>184866.69</td>\n",
       "      <td>0</td>\n",
       "    </tr>\n",
       "    <tr>\n",
       "      <th>3</th>\n",
       "      <td>3</td>\n",
       "      <td>15741417</td>\n",
       "      <td>Kao</td>\n",
       "      <td>581</td>\n",
       "      <td>France</td>\n",
       "      <td>Male</td>\n",
       "      <td>34.0</td>\n",
       "      <td>2</td>\n",
       "      <td>148882.54</td>\n",
       "      <td>1</td>\n",
       "      <td>1.0</td>\n",
       "      <td>1.0</td>\n",
       "      <td>84560.88</td>\n",
       "      <td>0</td>\n",
       "    </tr>\n",
       "    <tr>\n",
       "      <th>4</th>\n",
       "      <td>4</td>\n",
       "      <td>15766172</td>\n",
       "      <td>Chiemenam</td>\n",
       "      <td>716</td>\n",
       "      <td>Spain</td>\n",
       "      <td>Male</td>\n",
       "      <td>33.0</td>\n",
       "      <td>5</td>\n",
       "      <td>0.00</td>\n",
       "      <td>2</td>\n",
       "      <td>1.0</td>\n",
       "      <td>1.0</td>\n",
       "      <td>15068.83</td>\n",
       "      <td>0</td>\n",
       "    </tr>\n",
       "  </tbody>\n",
       "</table>\n",
       "</div>"
      ],
      "text/plain": [
       "   id  CustomerId         Surname  CreditScore Geography Gender   Age  Tenure  \\\n",
       "0   0    15674932  Okwudilichukwu          668    France   Male  33.0       3   \n",
       "1   1    15749177   Okwudiliolisa          627    France   Male  33.0       1   \n",
       "2   2    15694510           Hsueh          678    France   Male  40.0      10   \n",
       "3   3    15741417             Kao          581    France   Male  34.0       2   \n",
       "4   4    15766172       Chiemenam          716     Spain   Male  33.0       5   \n",
       "\n",
       "     Balance  NumOfProducts  HasCrCard  IsActiveMember  EstimatedSalary  \\\n",
       "0       0.00              2        1.0             0.0        181449.97   \n",
       "1       0.00              2        1.0             1.0         49503.50   \n",
       "2       0.00              2        1.0             0.0        184866.69   \n",
       "3  148882.54              1        1.0             1.0         84560.88   \n",
       "4       0.00              2        1.0             1.0         15068.83   \n",
       "\n",
       "   Exited  \n",
       "0       0  \n",
       "1       0  \n",
       "2       0  \n",
       "3       0  \n",
       "4       0  "
      ]
     },
     "execution_count": 3,
     "metadata": {},
     "output_type": "execute_result"
    }
   ],
   "source": [
    "train.head()"
   ]
  },
  {
   "cell_type": "code",
   "execution_count": 4,
   "id": "8af8db01",
   "metadata": {
    "execution": {
     "iopub.execute_input": "2024-01-07T16:35:43.151677Z",
     "iopub.status.busy": "2024-01-07T16:35:43.151308Z",
     "iopub.status.idle": "2024-01-07T16:35:43.158720Z",
     "shell.execute_reply": "2024-01-07T16:35:43.157687Z"
    },
    "papermill": {
     "duration": 0.017437,
     "end_time": "2024-01-07T16:35:43.160897",
     "exception": false,
     "start_time": "2024-01-07T16:35:43.143460",
     "status": "completed"
    },
    "tags": []
   },
   "outputs": [
    {
     "data": {
      "text/plain": [
       "(165034, 14)"
      ]
     },
     "execution_count": 4,
     "metadata": {},
     "output_type": "execute_result"
    }
   ],
   "source": [
    "train.shape"
   ]
  },
  {
   "cell_type": "code",
   "execution_count": 5,
   "id": "63901901",
   "metadata": {
    "execution": {
     "iopub.execute_input": "2024-01-07T16:35:43.176261Z",
     "iopub.status.busy": "2024-01-07T16:35:43.174905Z",
     "iopub.status.idle": "2024-01-07T16:35:43.190521Z",
     "shell.execute_reply": "2024-01-07T16:35:43.189513Z"
    },
    "papermill": {
     "duration": 0.025334,
     "end_time": "2024-01-07T16:35:43.192650",
     "exception": false,
     "start_time": "2024-01-07T16:35:43.167316",
     "status": "completed"
    },
    "tags": []
   },
   "outputs": [
    {
     "data": {
      "text/plain": [
       "23221"
      ]
     },
     "execution_count": 5,
     "metadata": {},
     "output_type": "execute_result"
    }
   ],
   "source": [
    "train.CustomerId.nunique()"
   ]
  },
  {
   "cell_type": "code",
   "execution_count": 6,
   "id": "e19e7f1e",
   "metadata": {
    "execution": {
     "iopub.execute_input": "2024-01-07T16:35:43.207306Z",
     "iopub.status.busy": "2024-01-07T16:35:43.206896Z",
     "iopub.status.idle": "2024-01-07T16:35:43.223287Z",
     "shell.execute_reply": "2024-01-07T16:35:43.222061Z"
    },
    "papermill": {
     "duration": 0.026217,
     "end_time": "2024-01-07T16:35:43.225376",
     "exception": false,
     "start_time": "2024-01-07T16:35:43.199159",
     "status": "completed"
    },
    "tags": []
   },
   "outputs": [],
   "source": [
    "train_new = train.drop(['CustomerId','Surname','id'], axis= 1)"
   ]
  },
  {
   "cell_type": "code",
   "execution_count": 7,
   "id": "c7c0cb6c",
   "metadata": {
    "execution": {
     "iopub.execute_input": "2024-01-07T16:35:43.240844Z",
     "iopub.status.busy": "2024-01-07T16:35:43.240217Z",
     "iopub.status.idle": "2024-01-07T16:35:43.257152Z",
     "shell.execute_reply": "2024-01-07T16:35:43.255953Z"
    },
    "papermill": {
     "duration": 0.027527,
     "end_time": "2024-01-07T16:35:43.259416",
     "exception": false,
     "start_time": "2024-01-07T16:35:43.231889",
     "status": "completed"
    },
    "tags": []
   },
   "outputs": [
    {
     "data": {
      "text/html": [
       "<div>\n",
       "<style scoped>\n",
       "    .dataframe tbody tr th:only-of-type {\n",
       "        vertical-align: middle;\n",
       "    }\n",
       "\n",
       "    .dataframe tbody tr th {\n",
       "        vertical-align: top;\n",
       "    }\n",
       "\n",
       "    .dataframe thead th {\n",
       "        text-align: right;\n",
       "    }\n",
       "</style>\n",
       "<table border=\"1\" class=\"dataframe\">\n",
       "  <thead>\n",
       "    <tr style=\"text-align: right;\">\n",
       "      <th></th>\n",
       "      <th>CreditScore</th>\n",
       "      <th>Geography</th>\n",
       "      <th>Gender</th>\n",
       "      <th>Age</th>\n",
       "      <th>Tenure</th>\n",
       "      <th>Balance</th>\n",
       "      <th>NumOfProducts</th>\n",
       "      <th>HasCrCard</th>\n",
       "      <th>IsActiveMember</th>\n",
       "      <th>EstimatedSalary</th>\n",
       "      <th>Exited</th>\n",
       "    </tr>\n",
       "  </thead>\n",
       "  <tbody>\n",
       "    <tr>\n",
       "      <th>0</th>\n",
       "      <td>668</td>\n",
       "      <td>France</td>\n",
       "      <td>Male</td>\n",
       "      <td>33.0</td>\n",
       "      <td>3</td>\n",
       "      <td>0.00</td>\n",
       "      <td>2</td>\n",
       "      <td>1.0</td>\n",
       "      <td>0.0</td>\n",
       "      <td>181449.97</td>\n",
       "      <td>0</td>\n",
       "    </tr>\n",
       "    <tr>\n",
       "      <th>1</th>\n",
       "      <td>627</td>\n",
       "      <td>France</td>\n",
       "      <td>Male</td>\n",
       "      <td>33.0</td>\n",
       "      <td>1</td>\n",
       "      <td>0.00</td>\n",
       "      <td>2</td>\n",
       "      <td>1.0</td>\n",
       "      <td>1.0</td>\n",
       "      <td>49503.50</td>\n",
       "      <td>0</td>\n",
       "    </tr>\n",
       "    <tr>\n",
       "      <th>2</th>\n",
       "      <td>678</td>\n",
       "      <td>France</td>\n",
       "      <td>Male</td>\n",
       "      <td>40.0</td>\n",
       "      <td>10</td>\n",
       "      <td>0.00</td>\n",
       "      <td>2</td>\n",
       "      <td>1.0</td>\n",
       "      <td>0.0</td>\n",
       "      <td>184866.69</td>\n",
       "      <td>0</td>\n",
       "    </tr>\n",
       "    <tr>\n",
       "      <th>3</th>\n",
       "      <td>581</td>\n",
       "      <td>France</td>\n",
       "      <td>Male</td>\n",
       "      <td>34.0</td>\n",
       "      <td>2</td>\n",
       "      <td>148882.54</td>\n",
       "      <td>1</td>\n",
       "      <td>1.0</td>\n",
       "      <td>1.0</td>\n",
       "      <td>84560.88</td>\n",
       "      <td>0</td>\n",
       "    </tr>\n",
       "    <tr>\n",
       "      <th>4</th>\n",
       "      <td>716</td>\n",
       "      <td>Spain</td>\n",
       "      <td>Male</td>\n",
       "      <td>33.0</td>\n",
       "      <td>5</td>\n",
       "      <td>0.00</td>\n",
       "      <td>2</td>\n",
       "      <td>1.0</td>\n",
       "      <td>1.0</td>\n",
       "      <td>15068.83</td>\n",
       "      <td>0</td>\n",
       "    </tr>\n",
       "  </tbody>\n",
       "</table>\n",
       "</div>"
      ],
      "text/plain": [
       "   CreditScore Geography Gender   Age  Tenure    Balance  NumOfProducts  \\\n",
       "0          668    France   Male  33.0       3       0.00              2   \n",
       "1          627    France   Male  33.0       1       0.00              2   \n",
       "2          678    France   Male  40.0      10       0.00              2   \n",
       "3          581    France   Male  34.0       2  148882.54              1   \n",
       "4          716     Spain   Male  33.0       5       0.00              2   \n",
       "\n",
       "   HasCrCard  IsActiveMember  EstimatedSalary  Exited  \n",
       "0        1.0             0.0        181449.97       0  \n",
       "1        1.0             1.0         49503.50       0  \n",
       "2        1.0             0.0        184866.69       0  \n",
       "3        1.0             1.0         84560.88       0  \n",
       "4        1.0             1.0         15068.83       0  "
      ]
     },
     "execution_count": 7,
     "metadata": {},
     "output_type": "execute_result"
    }
   ],
   "source": [
    "train_new.head()"
   ]
  },
  {
   "cell_type": "code",
   "execution_count": 8,
   "id": "618f8c24",
   "metadata": {
    "execution": {
     "iopub.execute_input": "2024-01-07T16:35:43.275558Z",
     "iopub.status.busy": "2024-01-07T16:35:43.274890Z",
     "iopub.status.idle": "2024-01-07T16:35:44.322022Z",
     "shell.execute_reply": "2024-01-07T16:35:44.320847Z"
    },
    "papermill": {
     "duration": 1.058338,
     "end_time": "2024-01-07T16:35:44.324456",
     "exception": false,
     "start_time": "2024-01-07T16:35:43.266118",
     "status": "completed"
    },
    "tags": []
   },
   "outputs": [
    {
     "data": {
      "text/plain": [
       "array([<Axes: title={'center': '0'}, ylabel='Frequency'>,\n",
       "       <Axes: title={'center': '1'}, ylabel='Frequency'>], dtype=object)"
      ]
     },
     "execution_count": 8,
     "metadata": {},
     "output_type": "execute_result"
    },
    {
     "data": {
      "image/png": "[encoded data removed]",
      "text/plain": [
       "<Figure size 640x480 with 2 Axes>"
      ]
     },
     "metadata": {},
     "output_type": "display_data"
    }
   ],
   "source": [
    "train.plot.hist(column = ['CreditScore'],bins=50, alpha=0.5, by = 'Exited')"
   ]
  },
  {
   "cell_type": "code",
   "execution_count": 9,
   "id": "f36ca237",
   "metadata": {
    "execution": {
     "iopub.execute_input": "2024-01-07T16:35:44.341582Z",
     "iopub.status.busy": "2024-01-07T16:35:44.340855Z",
     "iopub.status.idle": "2024-01-07T16:35:44.364347Z",
     "shell.execute_reply": "2024-01-07T16:35:44.363069Z"
    },
    "papermill": {
     "duration": 0.034986,
     "end_time": "2024-01-07T16:35:44.367036",
     "exception": false,
     "start_time": "2024-01-07T16:35:44.332050",
     "status": "completed"
    },
    "tags": []
   },
   "outputs": [
    {
     "data": {
      "text/plain": [
       "Geography\n",
       "France     0.570882\n",
       "Spain      0.219428\n",
       "Germany    0.209690\n",
       "Name: count, dtype: float64"
      ]
     },
     "execution_count": 9,
     "metadata": {},
     "output_type": "execute_result"
    }
   ],
   "source": [
    "train_new.Geography.value_counts()/len(train_new)"
   ]
  },
  {
   "cell_type": "code",
   "execution_count": 10,
   "id": "d269c003",
   "metadata": {
    "execution": {
     "iopub.execute_input": "2024-01-07T16:35:44.384457Z",
     "iopub.status.busy": "2024-01-07T16:35:44.384072Z",
     "iopub.status.idle": "2024-01-07T16:35:44.420131Z",
     "shell.execute_reply": "2024-01-07T16:35:44.418847Z"
    },
    "papermill": {
     "duration": 0.047833,
     "end_time": "2024-01-07T16:35:44.422881",
     "exception": false,
     "start_time": "2024-01-07T16:35:44.375048",
     "status": "completed"
    },
    "tags": []
   },
   "outputs": [],
   "source": [
    "new = pd.DataFrame(train.groupby(by = ['Geography','Exited'])['Exited'].count()/len(train_new)).unstack(level = -1).reset_index()\n",
    "new.columns = new.columns.map(lambda x: x[1])\n",
    "new = new.rename({'':'Geography'}, axis = 1)"
   ]
  },
  {
   "cell_type": "code",
   "execution_count": 11,
   "id": "6597d1bc",
   "metadata": {
    "execution": {
     "iopub.execute_input": "2024-01-07T16:35:44.440916Z",
     "iopub.status.busy": "2024-01-07T16:35:44.440527Z",
     "iopub.status.idle": "2024-01-07T16:35:44.451690Z",
     "shell.execute_reply": "2024-01-07T16:35:44.450514Z"
    },
    "papermill": {
     "duration": 0.022597,
     "end_time": "2024-01-07T16:35:44.454189",
     "exception": false,
     "start_time": "2024-01-07T16:35:44.431592",
     "status": "completed"
    },
    "tags": []
   },
   "outputs": [
    {
     "data": {
      "text/html": [
       "<div>\n",
       "<style scoped>\n",
       "    .dataframe tbody tr th:only-of-type {\n",
       "        vertical-align: middle;\n",
       "    }\n",
       "\n",
       "    .dataframe tbody tr th {\n",
       "        vertical-align: top;\n",
       "    }\n",
       "\n",
       "    .dataframe thead th {\n",
       "        text-align: right;\n",
       "    }\n",
       "</style>\n",
       "<table border=\"1\" class=\"dataframe\">\n",
       "  <thead>\n",
       "    <tr style=\"text-align: right;\">\n",
       "      <th></th>\n",
       "      <th>Geography</th>\n",
       "      <th>0</th>\n",
       "      <th>1</th>\n",
       "    </tr>\n",
       "  </thead>\n",
       "  <tbody>\n",
       "    <tr>\n",
       "      <th>0</th>\n",
       "      <td>France</td>\n",
       "      <td>0.476526</td>\n",
       "      <td>0.094356</td>\n",
       "    </tr>\n",
       "    <tr>\n",
       "      <th>1</th>\n",
       "      <td>Germany</td>\n",
       "      <td>0.130228</td>\n",
       "      <td>0.079462</td>\n",
       "    </tr>\n",
       "    <tr>\n",
       "      <th>2</th>\n",
       "      <td>Spain</td>\n",
       "      <td>0.181647</td>\n",
       "      <td>0.037780</td>\n",
       "    </tr>\n",
       "  </tbody>\n",
       "</table>\n",
       "</div>"
      ],
      "text/plain": [
       "  Geography         0         1\n",
       "0    France  0.476526  0.094356\n",
       "1   Germany  0.130228  0.079462\n",
       "2     Spain  0.181647  0.037780"
      ]
     },
     "execution_count": 11,
     "metadata": {},
     "output_type": "execute_result"
    }
   ],
   "source": [
    "new"
   ]
  },
  {
   "cell_type": "code",
   "execution_count": 12,
   "id": "54cd6c0b",
   "metadata": {
    "execution": {
     "iopub.execute_input": "2024-01-07T16:35:44.473117Z",
     "iopub.status.busy": "2024-01-07T16:35:44.471879Z",
     "iopub.status.idle": "2024-01-07T16:35:44.483989Z",
     "shell.execute_reply": "2024-01-07T16:35:44.482615Z"
    },
    "papermill": {
     "duration": 0.024234,
     "end_time": "2024-01-07T16:35:44.486300",
     "exception": false,
     "start_time": "2024-01-07T16:35:44.462066",
     "status": "completed"
    },
    "tags": []
   },
   "outputs": [
    {
     "data": {
      "text/plain": [
       "Exited\n",
       "0    0.788401\n",
       "1    0.211599\n",
       "Name: count, dtype: float64"
      ]
     },
     "execution_count": 12,
     "metadata": {},
     "output_type": "execute_result"
    }
   ],
   "source": [
    "train_new.Exited.value_counts()/len(train_new)"
   ]
  },
  {
   "cell_type": "code",
   "execution_count": 13,
   "id": "2e5a13c8",
   "metadata": {
    "execution": {
     "iopub.execute_input": "2024-01-07T16:35:44.503855Z",
     "iopub.status.busy": "2024-01-07T16:35:44.503192Z",
     "iopub.status.idle": "2024-01-07T16:35:44.514187Z",
     "shell.execute_reply": "2024-01-07T16:35:44.512993Z"
    },
    "papermill": {
     "duration": 0.022458,
     "end_time": "2024-01-07T16:35:44.516664",
     "exception": false,
     "start_time": "2024-01-07T16:35:44.494206",
     "status": "completed"
    },
    "tags": []
   },
   "outputs": [],
   "source": [
    "train_new['Tenure'] = train_new['Tenure'].astype('category')\n",
    "train_new['NumOfProducts'] = train_new['NumOfProducts'].astype('category')"
   ]
  },
  {
   "cell_type": "code",
   "execution_count": 14,
   "id": "508dc696",
   "metadata": {
    "execution": {
     "iopub.execute_input": "2024-01-07T16:35:44.535758Z",
     "iopub.status.busy": "2024-01-07T16:35:44.535355Z",
     "iopub.status.idle": "2024-01-07T16:35:44.601026Z",
     "shell.execute_reply": "2024-01-07T16:35:44.599908Z"
    },
    "papermill": {
     "duration": 0.077498,
     "end_time": "2024-01-07T16:35:44.603648",
     "exception": false,
     "start_time": "2024-01-07T16:35:44.526150",
     "status": "completed"
    },
    "tags": []
   },
   "outputs": [],
   "source": [
    "train_new = pd.get_dummies(train_new)"
   ]
  },
  {
   "cell_type": "code",
   "execution_count": 15,
   "id": "008697ce",
   "metadata": {
    "execution": {
     "iopub.execute_input": "2024-01-07T16:35:44.621354Z",
     "iopub.status.busy": "2024-01-07T16:35:44.620946Z",
     "iopub.status.idle": "2024-01-07T16:35:44.647741Z",
     "shell.execute_reply": "2024-01-07T16:35:44.646540Z"
    },
    "papermill": {
     "duration": 0.038629,
     "end_time": "2024-01-07T16:35:44.650272",
     "exception": false,
     "start_time": "2024-01-07T16:35:44.611643",
     "status": "completed"
    },
    "tags": []
   },
   "outputs": [
    {
     "data": {
      "text/html": [
       "<div>\n",
       "<style scoped>\n",
       "    .dataframe tbody tr th:only-of-type {\n",
       "        vertical-align: middle;\n",
       "    }\n",
       "\n",
       "    .dataframe tbody tr th {\n",
       "        vertical-align: top;\n",
       "    }\n",
       "\n",
       "    .dataframe thead th {\n",
       "        text-align: right;\n",
       "    }\n",
       "</style>\n",
       "<table border=\"1\" class=\"dataframe\">\n",
       "  <thead>\n",
       "    <tr style=\"text-align: right;\">\n",
       "      <th></th>\n",
       "      <th>CreditScore</th>\n",
       "      <th>Age</th>\n",
       "      <th>Balance</th>\n",
       "      <th>HasCrCard</th>\n",
       "      <th>IsActiveMember</th>\n",
       "      <th>EstimatedSalary</th>\n",
       "      <th>Exited</th>\n",
       "      <th>Geography_France</th>\n",
       "      <th>Geography_Germany</th>\n",
       "      <th>Geography_Spain</th>\n",
       "      <th>...</th>\n",
       "      <th>Tenure_5</th>\n",
       "      <th>Tenure_6</th>\n",
       "      <th>Tenure_7</th>\n",
       "      <th>Tenure_8</th>\n",
       "      <th>Tenure_9</th>\n",
       "      <th>Tenure_10</th>\n",
       "      <th>NumOfProducts_1</th>\n",
       "      <th>NumOfProducts_2</th>\n",
       "      <th>NumOfProducts_3</th>\n",
       "      <th>NumOfProducts_4</th>\n",
       "    </tr>\n",
       "  </thead>\n",
       "  <tbody>\n",
       "    <tr>\n",
       "      <th>0</th>\n",
       "      <td>668</td>\n",
       "      <td>33.0</td>\n",
       "      <td>0.00</td>\n",
       "      <td>1.0</td>\n",
       "      <td>0.0</td>\n",
       "      <td>181449.97</td>\n",
       "      <td>0</td>\n",
       "      <td>True</td>\n",
       "      <td>False</td>\n",
       "      <td>False</td>\n",
       "      <td>...</td>\n",
       "      <td>False</td>\n",
       "      <td>False</td>\n",
       "      <td>False</td>\n",
       "      <td>False</td>\n",
       "      <td>False</td>\n",
       "      <td>False</td>\n",
       "      <td>False</td>\n",
       "      <td>True</td>\n",
       "      <td>False</td>\n",
       "      <td>False</td>\n",
       "    </tr>\n",
       "    <tr>\n",
       "      <th>1</th>\n",
       "      <td>627</td>\n",
       "      <td>33.0</td>\n",
       "      <td>0.00</td>\n",
       "      <td>1.0</td>\n",
       "      <td>1.0</td>\n",
       "      <td>49503.50</td>\n",
       "      <td>0</td>\n",
       "      <td>True</td>\n",
       "      <td>False</td>\n",
       "      <td>False</td>\n",
       "      <td>...</td>\n",
       "      <td>False</td>\n",
       "      <td>False</td>\n",
       "      <td>False</td>\n",
       "      <td>False</td>\n",
       "      <td>False</td>\n",
       "      <td>False</td>\n",
       "      <td>False</td>\n",
       "      <td>True</td>\n",
       "      <td>False</td>\n",
       "      <td>False</td>\n",
       "    </tr>\n",
       "    <tr>\n",
       "      <th>2</th>\n",
       "      <td>678</td>\n",
       "      <td>40.0</td>\n",
       "      <td>0.00</td>\n",
       "      <td>1.0</td>\n",
       "      <td>0.0</td>\n",
       "      <td>184866.69</td>\n",
       "      <td>0</td>\n",
       "      <td>True</td>\n",
       "      <td>False</td>\n",
       "      <td>False</td>\n",
       "      <td>...</td>\n",
       "      <td>False</td>\n",
       "      <td>False</td>\n",
       "      <td>False</td>\n",
       "      <td>False</td>\n",
       "      <td>False</td>\n",
       "      <td>True</td>\n",
       "      <td>False</td>\n",
       "      <td>True</td>\n",
       "      <td>False</td>\n",
       "      <td>False</td>\n",
       "    </tr>\n",
       "    <tr>\n",
       "      <th>3</th>\n",
       "      <td>581</td>\n",
       "      <td>34.0</td>\n",
       "      <td>148882.54</td>\n",
       "      <td>1.0</td>\n",
       "      <td>1.0</td>\n",
       "      <td>84560.88</td>\n",
       "      <td>0</td>\n",
       "      <td>True</td>\n",
       "      <td>False</td>\n",
       "      <td>False</td>\n",
       "      <td>...</td>\n",
       "      <td>False</td>\n",
       "      <td>False</td>\n",
       "      <td>False</td>\n",
       "      <td>False</td>\n",
       "      <td>False</td>\n",
       "      <td>False</td>\n",
       "      <td>True</td>\n",
       "      <td>False</td>\n",
       "      <td>False</td>\n",
       "      <td>False</td>\n",
       "    </tr>\n",
       "    <tr>\n",
       "      <th>4</th>\n",
       "      <td>716</td>\n",
       "      <td>33.0</td>\n",
       "      <td>0.00</td>\n",
       "      <td>1.0</td>\n",
       "      <td>1.0</td>\n",
       "      <td>15068.83</td>\n",
       "      <td>0</td>\n",
       "      <td>False</td>\n",
       "      <td>False</td>\n",
       "      <td>True</td>\n",
       "      <td>...</td>\n",
       "      <td>True</td>\n",
       "      <td>False</td>\n",
       "      <td>False</td>\n",
       "      <td>False</td>\n",
       "      <td>False</td>\n",
       "      <td>False</td>\n",
       "      <td>False</td>\n",
       "      <td>True</td>\n",
       "      <td>False</td>\n",
       "      <td>False</td>\n",
       "    </tr>\n",
       "  </tbody>\n",
       "</table>\n",
       "<p>5 rows × 27 columns</p>\n",
       "</div>"
      ],
      "text/plain": [
       "   CreditScore   Age    Balance  HasCrCard  IsActiveMember  EstimatedSalary  \\\n",
       "0          668  33.0       0.00        1.0             0.0        181449.97   \n",
       "1          627  33.0       0.00        1.0             1.0         49503.50   \n",
       "2          678  40.0       0.00        1.0             0.0        184866.69   \n",
       "3          581  34.0  148882.54        1.0             1.0         84560.88   \n",
       "4          716  33.0       0.00        1.0             1.0         15068.83   \n",
       "\n",
       "   Exited  Geography_France  Geography_Germany  Geography_Spain  ...  \\\n",
       "0       0              True              False            False  ...   \n",
       "1       0              True              False            False  ...   \n",
       "2       0              True              False            False  ...   \n",
       "3       0              True              False            False  ...   \n",
       "4       0             False              False             True  ...   \n",
       "\n",
       "   Tenure_5  Tenure_6  Tenure_7  Tenure_8  Tenure_9  Tenure_10  \\\n",
       "0     False     False     False     False     False      False   \n",
       "1     False     False     False     False     False      False   \n",
       "2     False     False     False     False     False       True   \n",
       "3     False     False     False     False     False      False   \n",
       "4      True     False     False     False     False      False   \n",
       "\n",
       "   NumOfProducts_1  NumOfProducts_2  NumOfProducts_3  NumOfProducts_4  \n",
       "0            False             True            False            False  \n",
       "1            False             True            False            False  \n",
       "2            False             True            False            False  \n",
       "3             True            False            False            False  \n",
       "4            False             True            False            False  \n",
       "\n",
       "[5 rows x 27 columns]"
      ]
     },
     "execution_count": 15,
     "metadata": {},
     "output_type": "execute_result"
    }
   ],
   "source": [
    "train_new.head()"
   ]
  },
  {
   "cell_type": "code",
   "execution_count": 16,
   "id": "bb81832c",
   "metadata": {
    "execution": {
     "iopub.execute_input": "2024-01-07T16:35:44.668561Z",
     "iopub.status.busy": "2024-01-07T16:35:44.668171Z",
     "iopub.status.idle": "2024-01-07T16:35:44.675809Z",
     "shell.execute_reply": "2024-01-07T16:35:44.674761Z"
    },
    "papermill": {
     "duration": 0.01946,
     "end_time": "2024-01-07T16:35:44.678101",
     "exception": false,
     "start_time": "2024-01-07T16:35:44.658641",
     "status": "completed"
    },
    "tags": []
   },
   "outputs": [
    {
     "data": {
      "text/plain": [
       "Index(['CreditScore', 'Age', 'Balance', 'HasCrCard', 'IsActiveMember',\n",
       "       'EstimatedSalary', 'Exited', 'Geography_France', 'Geography_Germany',\n",
       "       'Geography_Spain', 'Gender_Female', 'Gender_Male', 'Tenure_0',\n",
       "       'Tenure_1', 'Tenure_2', 'Tenure_3', 'Tenure_4', 'Tenure_5', 'Tenure_6',\n",
       "       'Tenure_7', 'Tenure_8', 'Tenure_9', 'Tenure_10', 'NumOfProducts_1',\n",
       "       'NumOfProducts_2', 'NumOfProducts_3', 'NumOfProducts_4'],\n",
       "      dtype='object')"
      ]
     },
     "execution_count": 16,
     "metadata": {},
     "output_type": "execute_result"
    }
   ],
   "source": [
    "train_new.columns"
   ]
  },
  {
   "cell_type": "code",
   "execution_count": 17,
   "id": "58ce50a8",
   "metadata": {
    "execution": {
     "iopub.execute_input": "2024-01-07T16:35:44.695876Z",
     "iopub.status.busy": "2024-01-07T16:35:44.695487Z",
     "iopub.status.idle": "2024-01-07T16:35:44.704205Z",
     "shell.execute_reply": "2024-01-07T16:35:44.703045Z"
    },
    "papermill": {
     "duration": 0.020483,
     "end_time": "2024-01-07T16:35:44.706660",
     "exception": false,
     "start_time": "2024-01-07T16:35:44.686177",
     "status": "completed"
    },
    "tags": []
   },
   "outputs": [],
   "source": [
    "train_new_normal = train_new[['CreditScore', 'Age', 'Balance', 'HasCrCard', 'IsActiveMember',\n",
    "       'EstimatedSalary', 'Exited']]"
   ]
  },
  {
   "cell_type": "code",
   "execution_count": 18,
   "id": "aecbaee8",
   "metadata": {
    "execution": {
     "iopub.execute_input": "2024-01-07T16:35:44.726220Z",
     "iopub.status.busy": "2024-01-07T16:35:44.725795Z",
     "iopub.status.idle": "2024-01-07T16:35:44.734739Z",
     "shell.execute_reply": "2024-01-07T16:35:44.733826Z"
    },
    "papermill": {
     "duration": 0.021556,
     "end_time": "2024-01-07T16:35:44.737134",
     "exception": false,
     "start_time": "2024-01-07T16:35:44.715578",
     "status": "completed"
    },
    "tags": []
   },
   "outputs": [],
   "source": [
    "train_new_ord = train_new[['Geography_France', 'Geography_Germany',\n",
    "       'Geography_Spain', 'Gender_Female', 'Gender_Male', 'Tenure_0',\n",
    "       'Tenure_1', 'Tenure_2', 'Tenure_3', 'Tenure_4', 'Tenure_5', 'Tenure_6',\n",
    "       'Tenure_7', 'Tenure_8', 'Tenure_9', 'Tenure_10', 'NumOfProducts_1',\n",
    "       'NumOfProducts_2', 'NumOfProducts_3', 'NumOfProducts_4']]"
   ]
  },
  {
   "cell_type": "code",
   "execution_count": 19,
   "id": "c0aa319a",
   "metadata": {
    "execution": {
     "iopub.execute_input": "2024-01-07T16:35:44.756731Z",
     "iopub.status.busy": "2024-01-07T16:35:44.755724Z",
     "iopub.status.idle": "2024-01-07T16:35:44.761215Z",
     "shell.execute_reply": "2024-01-07T16:35:44.760062Z"
    },
    "papermill": {
     "duration": 0.017967,
     "end_time": "2024-01-07T16:35:44.763626",
     "exception": false,
     "start_time": "2024-01-07T16:35:44.745659",
     "status": "completed"
    },
    "tags": []
   },
   "outputs": [],
   "source": [
    "def transform(x):\n",
    "    return x.apply(lambda y:1 if y == True else 0)"
   ]
  },
  {
   "cell_type": "code",
   "execution_count": 20,
   "id": "6816e169",
   "metadata": {
    "execution": {
     "iopub.execute_input": "2024-01-07T16:35:44.783143Z",
     "iopub.status.busy": "2024-01-07T16:35:44.781924Z",
     "iopub.status.idle": "2024-01-07T16:35:46.038971Z",
     "shell.execute_reply": "2024-01-07T16:35:46.038007Z"
    },
    "papermill": {
     "duration": 1.26933,
     "end_time": "2024-01-07T16:35:46.041451",
     "exception": false,
     "start_time": "2024-01-07T16:35:44.772121",
     "status": "completed"
    },
    "tags": []
   },
   "outputs": [],
   "source": [
    "train_new_ord = train_new_ord.apply(lambda x:transform(x))"
   ]
  },
  {
   "cell_type": "code",
   "execution_count": 21,
   "id": "68dd2fed",
   "metadata": {
    "execution": {
     "iopub.execute_input": "2024-01-07T16:35:46.062030Z",
     "iopub.status.busy": "2024-01-07T16:35:46.061097Z",
     "iopub.status.idle": "2024-01-07T16:35:46.083537Z",
     "shell.execute_reply": "2024-01-07T16:35:46.082450Z"
    },
    "papermill": {
     "duration": 0.035617,
     "end_time": "2024-01-07T16:35:46.086164",
     "exception": false,
     "start_time": "2024-01-07T16:35:46.050547",
     "status": "completed"
    },
    "tags": []
   },
   "outputs": [],
   "source": [
    "train_new = pd.concat([train_new_normal,train_new_ord], axis = 1)"
   ]
  },
  {
   "cell_type": "code",
   "execution_count": 22,
   "id": "9c0268a5",
   "metadata": {
    "execution": {
     "iopub.execute_input": "2024-01-07T16:35:46.104766Z",
     "iopub.status.busy": "2024-01-07T16:35:46.104356Z",
     "iopub.status.idle": "2024-01-07T16:35:46.129085Z",
     "shell.execute_reply": "2024-01-07T16:35:46.127833Z"
    },
    "papermill": {
     "duration": 0.036919,
     "end_time": "2024-01-07T16:35:46.131571",
     "exception": false,
     "start_time": "2024-01-07T16:35:46.094652",
     "status": "completed"
    },
    "tags": []
   },
   "outputs": [
    {
     "data": {
      "text/html": [
       "<div>\n",
       "<style scoped>\n",
       "    .dataframe tbody tr th:only-of-type {\n",
       "        vertical-align: middle;\n",
       "    }\n",
       "\n",
       "    .dataframe tbody tr th {\n",
       "        vertical-align: top;\n",
       "    }\n",
       "\n",
       "    .dataframe thead th {\n",
       "        text-align: right;\n",
       "    }\n",
       "</style>\n",
       "<table border=\"1\" class=\"dataframe\">\n",
       "  <thead>\n",
       "    <tr style=\"text-align: right;\">\n",
       "      <th></th>\n",
       "      <th>CreditScore</th>\n",
       "      <th>Age</th>\n",
       "      <th>Balance</th>\n",
       "      <th>HasCrCard</th>\n",
       "      <th>IsActiveMember</th>\n",
       "      <th>EstimatedSalary</th>\n",
       "      <th>Exited</th>\n",
       "      <th>Geography_France</th>\n",
       "      <th>Geography_Germany</th>\n",
       "      <th>Geography_Spain</th>\n",
       "      <th>...</th>\n",
       "      <th>Tenure_5</th>\n",
       "      <th>Tenure_6</th>\n",
       "      <th>Tenure_7</th>\n",
       "      <th>Tenure_8</th>\n",
       "      <th>Tenure_9</th>\n",
       "      <th>Tenure_10</th>\n",
       "      <th>NumOfProducts_1</th>\n",
       "      <th>NumOfProducts_2</th>\n",
       "      <th>NumOfProducts_3</th>\n",
       "      <th>NumOfProducts_4</th>\n",
       "    </tr>\n",
       "  </thead>\n",
       "  <tbody>\n",
       "    <tr>\n",
       "      <th>0</th>\n",
       "      <td>668</td>\n",
       "      <td>33.0</td>\n",
       "      <td>0.00</td>\n",
       "      <td>1.0</td>\n",
       "      <td>0.0</td>\n",
       "      <td>181449.97</td>\n",
       "      <td>0</td>\n",
       "      <td>1</td>\n",
       "      <td>0</td>\n",
       "      <td>0</td>\n",
       "      <td>...</td>\n",
       "      <td>0</td>\n",
       "      <td>0</td>\n",
       "      <td>0</td>\n",
       "      <td>0</td>\n",
       "      <td>0</td>\n",
       "      <td>0</td>\n",
       "      <td>0</td>\n",
       "      <td>1</td>\n",
       "      <td>0</td>\n",
       "      <td>0</td>\n",
       "    </tr>\n",
       "    <tr>\n",
       "      <th>1</th>\n",
       "      <td>627</td>\n",
       "      <td>33.0</td>\n",
       "      <td>0.00</td>\n",
       "      <td>1.0</td>\n",
       "      <td>1.0</td>\n",
       "      <td>49503.50</td>\n",
       "      <td>0</td>\n",
       "      <td>1</td>\n",
       "      <td>0</td>\n",
       "      <td>0</td>\n",
       "      <td>...</td>\n",
       "      <td>0</td>\n",
       "      <td>0</td>\n",
       "      <td>0</td>\n",
       "      <td>0</td>\n",
       "      <td>0</td>\n",
       "      <td>0</td>\n",
       "      <td>0</td>\n",
       "      <td>1</td>\n",
       "      <td>0</td>\n",
       "      <td>0</td>\n",
       "    </tr>\n",
       "    <tr>\n",
       "      <th>2</th>\n",
       "      <td>678</td>\n",
       "      <td>40.0</td>\n",
       "      <td>0.00</td>\n",
       "      <td>1.0</td>\n",
       "      <td>0.0</td>\n",
       "      <td>184866.69</td>\n",
       "      <td>0</td>\n",
       "      <td>1</td>\n",
       "      <td>0</td>\n",
       "      <td>0</td>\n",
       "      <td>...</td>\n",
       "      <td>0</td>\n",
       "      <td>0</td>\n",
       "      <td>0</td>\n",
       "      <td>0</td>\n",
       "      <td>0</td>\n",
       "      <td>1</td>\n",
       "      <td>0</td>\n",
       "      <td>1</td>\n",
       "      <td>0</td>\n",
       "      <td>0</td>\n",
       "    </tr>\n",
       "    <tr>\n",
       "      <th>3</th>\n",
       "      <td>581</td>\n",
       "      <td>34.0</td>\n",
       "      <td>148882.54</td>\n",
       "      <td>1.0</td>\n",
       "      <td>1.0</td>\n",
       "      <td>84560.88</td>\n",
       "      <td>0</td>\n",
       "      <td>1</td>\n",
       "      <td>0</td>\n",
       "      <td>0</td>\n",
       "      <td>...</td>\n",
       "      <td>0</td>\n",
       "      <td>0</td>\n",
       "      <td>0</td>\n",
       "      <td>0</td>\n",
       "      <td>0</td>\n",
       "      <td>0</td>\n",
       "      <td>1</td>\n",
       "      <td>0</td>\n",
       "      <td>0</td>\n",
       "      <td>0</td>\n",
       "    </tr>\n",
       "    <tr>\n",
       "      <th>4</th>\n",
       "      <td>716</td>\n",
       "      <td>33.0</td>\n",
       "      <td>0.00</td>\n",
       "      <td>1.0</td>\n",
       "      <td>1.0</td>\n",
       "      <td>15068.83</td>\n",
       "      <td>0</td>\n",
       "      <td>0</td>\n",
       "      <td>0</td>\n",
       "      <td>1</td>\n",
       "      <td>...</td>\n",
       "      <td>1</td>\n",
       "      <td>0</td>\n",
       "      <td>0</td>\n",
       "      <td>0</td>\n",
       "      <td>0</td>\n",
       "      <td>0</td>\n",
       "      <td>0</td>\n",
       "      <td>1</td>\n",
       "      <td>0</td>\n",
       "      <td>0</td>\n",
       "    </tr>\n",
       "  </tbody>\n",
       "</table>\n",
       "<p>5 rows × 27 columns</p>\n",
       "</div>"
      ],
      "text/plain": [
       "   CreditScore   Age    Balance  HasCrCard  IsActiveMember  EstimatedSalary  \\\n",
       "0          668  33.0       0.00        1.0             0.0        181449.97   \n",
       "1          627  33.0       0.00        1.0             1.0         49503.50   \n",
       "2          678  40.0       0.00        1.0             0.0        184866.69   \n",
       "3          581  34.0  148882.54        1.0             1.0         84560.88   \n",
       "4          716  33.0       0.00        1.0             1.0         15068.83   \n",
       "\n",
       "   Exited  Geography_France  Geography_Germany  Geography_Spain  ...  \\\n",
       "0       0                 1                  0                0  ...   \n",
       "1       0                 1                  0                0  ...   \n",
       "2       0                 1                  0                0  ...   \n",
       "3       0                 1                  0                0  ...   \n",
       "4       0                 0                  0                1  ...   \n",
       "\n",
       "   Tenure_5  Tenure_6  Tenure_7  Tenure_8  Tenure_9  Tenure_10  \\\n",
       "0         0         0         0         0         0          0   \n",
       "1         0         0         0         0         0          0   \n",
       "2         0         0         0         0         0          1   \n",
       "3         0         0         0         0         0          0   \n",
       "4         1         0         0         0         0          0   \n",
       "\n",
       "   NumOfProducts_1  NumOfProducts_2  NumOfProducts_3  NumOfProducts_4  \n",
       "0                0                1                0                0  \n",
       "1                0                1                0                0  \n",
       "2                0                1                0                0  \n",
       "3                1                0                0                0  \n",
       "4                0                1                0                0  \n",
       "\n",
       "[5 rows x 27 columns]"
      ]
     },
     "execution_count": 22,
     "metadata": {},
     "output_type": "execute_result"
    }
   ],
   "source": [
    "train_new.head()"
   ]
  },
  {
   "cell_type": "code",
   "execution_count": 23,
   "id": "8b04d392",
   "metadata": {
    "execution": {
     "iopub.execute_input": "2024-01-07T16:35:46.151297Z",
     "iopub.status.busy": "2024-01-07T16:35:46.150635Z",
     "iopub.status.idle": "2024-01-07T16:35:46.341404Z",
     "shell.execute_reply": "2024-01-07T16:35:46.339871Z"
    },
    "papermill": {
     "duration": 0.20415,
     "end_time": "2024-01-07T16:35:46.344392",
     "exception": false,
     "start_time": "2024-01-07T16:35:46.140242",
     "status": "completed"
    },
    "tags": []
   },
   "outputs": [],
   "source": [
    "from sklearn.preprocessing import StandardScaler\n",
    "sc = StandardScaler()"
   ]
  },
  {
   "cell_type": "code",
   "execution_count": 24,
   "id": "377035e4",
   "metadata": {
    "execution": {
     "iopub.execute_input": "2024-01-07T16:35:46.364192Z",
     "iopub.status.busy": "2024-01-07T16:35:46.362965Z",
     "iopub.status.idle": "2024-01-07T16:35:46.475075Z",
     "shell.execute_reply": "2024-01-07T16:35:46.473488Z"
    },
    "papermill": {
     "duration": 0.124878,
     "end_time": "2024-01-07T16:35:46.477883",
     "exception": false,
     "start_time": "2024-01-07T16:35:46.353005",
     "status": "completed"
    },
    "tags": []
   },
   "outputs": [],
   "source": [
    "x = sc.fit_transform(train_new.drop('Exited', axis = 1))\n",
    "y = train_new['Exited']"
   ]
  },
  {
   "cell_type": "code",
   "execution_count": null,
   "id": "111dbbff",
   "metadata": {
    "papermill": {
     "duration": 0.008138,
     "end_time": "2024-01-07T16:35:46.494586",
     "exception": false,
     "start_time": "2024-01-07T16:35:46.486448",
     "status": "completed"
    },
    "tags": []
   },
   "outputs": [],
   "source": []
  }
 ],
 "metadata": {
  "kaggle": {
   "accelerator": "none",
   "dataSources": [
    {
     "databundleVersionId": 7405009,
     "sourceId": 65711,
     "sourceType": "competition"
    }
   ],
   "dockerImageVersionId": 30626,
   "isGpuEnabled": false,
   "isInternetEnabled": true,
   "language": "python",
   "sourceType": "notebook"
  },
  "kernelspec": {
   "display_name": "Python 3",
   "language": "python",
   "name": "python3"
  },
  "language_info": {
   "codemirror_mode": {
    "name": "ipython",
    "version": 3
   },
   "file_extension": ".py",
   "mimetype": "text/x-python",
   "name": "python",
   "nbconvert_exporter": "python",
   "pygments_lexer": "ipython3",
   "version": "3.10.12"
  },
  "papermill": {
   "default_parameters": {},
   "duration": 11.023694,
   "end_time": "2024-01-07T16:35:47.225602",
   "environment_variables": {},
   "exception": null,
   "input_path": "__notebook__.ipynb",
   "output_path": "__notebook__.ipynb",
   "parameters": {},
   "start_time": "2024-01-07T16:35:36.201908",
   "version": "2.4.0"
  }
 },
 "nbformat": 4,
 "nbformat_minor": 5
}
