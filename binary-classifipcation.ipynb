{
 "cells": [
  {
   "cell_type": "code",
   "execution_count": 1,
   "id": "1ef7e011",
   "metadata": {
    "_cell_guid": "b1076dfc-b9ad-4769-8c92-a6c4dae69d19",
    "_uuid": "8f2839f25d086af736a60e9eeb907d3b93b6e0e5",
    "execution": {
     "iopub.execute_input": "2024-01-08T19:16:41.409593Z",
     "iopub.status.busy": "2024-01-08T19:16:41.408719Z",
     "iopub.status.idle": "2024-01-08T19:16:43.005223Z",
     "shell.execute_reply": "2024-01-08T19:16:43.004300Z"
    },
    "papermill": {
     "duration": 1.605048,
     "end_time": "2024-01-08T19:16:43.007942",
     "exception": false,
     "start_time": "2024-01-08T19:16:41.402894",
     "status": "completed"
    },
    "tags": []
   },
   "outputs": [],
   "source": [
    "import pandas as pd\n",
    "import numpy as np\n",
    "import matplotlib.pyplot as plt\n",
    "import seaborn as sns"
   ]
  },
  {
   "cell_type": "code",
   "execution_count": 2,
   "id": "aa320d82",
   "metadata": {
    "execution": {
     "iopub.execute_input": "2024-01-08T19:16:43.017904Z",
     "iopub.status.busy": "2024-01-08T19:16:43.017384Z",
     "iopub.status.idle": "2024-01-08T19:16:43.419293Z",
     "shell.execute_reply": "2024-01-08T19:16:43.418084Z"
    },
    "papermill": {
     "duration": 0.409762,
     "end_time": "2024-01-08T19:16:43.421927",
     "exception": false,
     "start_time": "2024-01-08T19:16:43.012165",
     "status": "completed"
    },
    "tags": []
   },
   "outputs": [],
   "source": [
    "train = pd.read_csv(\"/kaggle/input/playground-series-s4e1/train.csv\")"
   ]
  },
  {
   "cell_type": "code",
   "execution_count": 3,
   "id": "b9b693ef",
   "metadata": {
    "execution": {
     "iopub.execute_input": "2024-01-08T19:16:43.431429Z",
     "iopub.status.busy": "2024-01-08T19:16:43.431038Z",
     "iopub.status.idle": "2024-01-08T19:16:43.436351Z",
     "shell.execute_reply": "2024-01-08T19:16:43.435362Z"
    },
    "papermill": {
     "duration": 0.012849,
     "end_time": "2024-01-08T19:16:43.438609",
     "exception": false,
     "start_time": "2024-01-08T19:16:43.425760",
     "status": "completed"
    },
    "tags": []
   },
   "outputs": [],
   "source": [
    "def transform(x):\n",
    "    return x.apply(lambda y:1 if y == True else 0)"
   ]
  },
  {
   "cell_type": "code",
   "execution_count": 4,
   "id": "a66a44fe",
   "metadata": {
    "execution": {
     "iopub.execute_input": "2024-01-08T19:16:43.447657Z",
     "iopub.status.busy": "2024-01-08T19:16:43.447264Z",
     "iopub.status.idle": "2024-01-08T19:16:43.477806Z",
     "shell.execute_reply": "2024-01-08T19:16:43.476764Z"
    },
    "papermill": {
     "duration": 0.037805,
     "end_time": "2024-01-08T19:16:43.480186",
     "exception": false,
     "start_time": "2024-01-08T19:16:43.442381",
     "status": "completed"
    },
    "tags": []
   },
   "outputs": [
    {
     "data": {
      "text/html": [
       "<div>\n",
       "<style scoped>\n",
       "    .dataframe tbody tr th:only-of-type {\n",
       "        vertical-align: middle;\n",
       "    }\n",
       "\n",
       "    .dataframe tbody tr th {\n",
       "        vertical-align: top;\n",
       "    }\n",
       "\n",
       "    .dataframe thead th {\n",
       "        text-align: right;\n",
       "    }\n",
       "</style>\n",
       "<table border=\"1\" class=\"dataframe\">\n",
       "  <thead>\n",
       "    <tr style=\"text-align: right;\">\n",
       "      <th></th>\n",
       "      <th>id</th>\n",
       "      <th>CustomerId</th>\n",
       "      <th>Surname</th>\n",
       "      <th>CreditScore</th>\n",
       "      <th>Geography</th>\n",
       "      <th>Gender</th>\n",
       "      <th>Age</th>\n",
       "      <th>Tenure</th>\n",
       "      <th>Balance</th>\n",
       "      <th>NumOfProducts</th>\n",
       "      <th>HasCrCard</th>\n",
       "      <th>IsActiveMember</th>\n",
       "      <th>EstimatedSalary</th>\n",
       "      <th>Exited</th>\n",
       "    </tr>\n",
       "  </thead>\n",
       "  <tbody>\n",
       "    <tr>\n",
       "      <th>0</th>\n",
       "      <td>0</td>\n",
       "      <td>15674932</td>\n",
       "      <td>Okwudilichukwu</td>\n",
       "      <td>668</td>\n",
       "      <td>France</td>\n",
       "      <td>Male</td>\n",
       "      <td>33.0</td>\n",
       "      <td>3</td>\n",
       "      <td>0.00</td>\n",
       "      <td>2</td>\n",
       "      <td>1.0</td>\n",
       "      <td>0.0</td>\n",
       "      <td>181449.97</td>\n",
       "      <td>0</td>\n",
       "    </tr>\n",
       "    <tr>\n",
       "      <th>1</th>\n",
       "      <td>1</td>\n",
       "      <td>15749177</td>\n",
       "      <td>Okwudiliolisa</td>\n",
       "      <td>627</td>\n",
       "      <td>France</td>\n",
       "      <td>Male</td>\n",
       "      <td>33.0</td>\n",
       "      <td>1</td>\n",
       "      <td>0.00</td>\n",
       "      <td>2</td>\n",
       "      <td>1.0</td>\n",
       "      <td>1.0</td>\n",
       "      <td>49503.50</td>\n",
       "      <td>0</td>\n",
       "    </tr>\n",
       "    <tr>\n",
       "      <th>2</th>\n",
       "      <td>2</td>\n",
       "      <td>15694510</td>\n",
       "      <td>Hsueh</td>\n",
       "      <td>678</td>\n",
       "      <td>France</td>\n",
       "      <td>Male</td>\n",
       "      <td>40.0</td>\n",
       "      <td>10</td>\n",
       "      <td>0.00</td>\n",
       "      <td>2</td>\n",
       "      <td>1.0</td>\n",
       "      <td>0.0</td>\n",
       "      <td>184866.69</td>\n",
       "      <td>0</td>\n",
       "    </tr>\n",
       "    <tr>\n",
       "      <th>3</th>\n",
       "      <td>3</td>\n",
       "      <td>15741417</td>\n",
       "      <td>Kao</td>\n",
       "      <td>581</td>\n",
       "      <td>France</td>\n",
       "      <td>Male</td>\n",
       "      <td>34.0</td>\n",
       "      <td>2</td>\n",
       "      <td>148882.54</td>\n",
       "      <td>1</td>\n",
       "      <td>1.0</td>\n",
       "      <td>1.0</td>\n",
       "      <td>84560.88</td>\n",
       "      <td>0</td>\n",
       "    </tr>\n",
       "    <tr>\n",
       "      <th>4</th>\n",
       "      <td>4</td>\n",
       "      <td>15766172</td>\n",
       "      <td>Chiemenam</td>\n",
       "      <td>716</td>\n",
       "      <td>Spain</td>\n",
       "      <td>Male</td>\n",
       "      <td>33.0</td>\n",
       "      <td>5</td>\n",
       "      <td>0.00</td>\n",
       "      <td>2</td>\n",
       "      <td>1.0</td>\n",
       "      <td>1.0</td>\n",
       "      <td>15068.83</td>\n",
       "      <td>0</td>\n",
       "    </tr>\n",
       "  </tbody>\n",
       "</table>\n",
       "</div>"
      ],
      "text/plain": [
       "   id  CustomerId         Surname  CreditScore Geography Gender   Age  Tenure  \\\n",
       "0   0    15674932  Okwudilichukwu          668    France   Male  33.0       3   \n",
       "1   1    15749177   Okwudiliolisa          627    France   Male  33.0       1   \n",
       "2   2    15694510           Hsueh          678    France   Male  40.0      10   \n",
       "3   3    15741417             Kao          581    France   Male  34.0       2   \n",
       "4   4    15766172       Chiemenam          716     Spain   Male  33.0       5   \n",
       "\n",
       "     Balance  NumOfProducts  HasCrCard  IsActiveMember  EstimatedSalary  \\\n",
       "0       0.00              2        1.0             0.0        181449.97   \n",
       "1       0.00              2        1.0             1.0         49503.50   \n",
       "2       0.00              2        1.0             0.0        184866.69   \n",
       "3  148882.54              1        1.0             1.0         84560.88   \n",
       "4       0.00              2        1.0             1.0         15068.83   \n",
       "\n",
       "   Exited  \n",
       "0       0  \n",
       "1       0  \n",
       "2       0  \n",
       "3       0  \n",
       "4       0  "
      ]
     },
     "execution_count": 4,
     "metadata": {},
     "output_type": "execute_result"
    }
   ],
   "source": [
    "train.head()"
   ]
  },
  {
   "cell_type": "code",
   "execution_count": 5,
   "id": "b9903e11",
   "metadata": {
    "execution": {
     "iopub.execute_input": "2024-01-08T19:16:43.489705Z",
     "iopub.status.busy": "2024-01-08T19:16:43.489343Z",
     "iopub.status.idle": "2024-01-08T19:16:43.493615Z",
     "shell.execute_reply": "2024-01-08T19:16:43.492497Z"
    },
    "papermill": {
     "duration": 0.011615,
     "end_time": "2024-01-08T19:16:43.495761",
     "exception": false,
     "start_time": "2024-01-08T19:16:43.484146",
     "status": "completed"
    },
    "tags": []
   },
   "outputs": [],
   "source": [
    "# new = pd.DataFrame(train.groupby(by = ['Geography','Exited'])['Exited'].count()/len(train_new)).unstack(level = -1).reset_index()\n",
    "# new.columns = new.columns.map(lambda x: x[1])\n",
    "# new = new.rename({'':'Geography'}, axis = 1)"
   ]
  },
  {
   "cell_type": "code",
   "execution_count": 6,
   "id": "2218e6fd",
   "metadata": {
    "execution": {
     "iopub.execute_input": "2024-01-08T19:16:43.505349Z",
     "iopub.status.busy": "2024-01-08T19:16:43.504973Z",
     "iopub.status.idle": "2024-01-08T19:16:43.590421Z",
     "shell.execute_reply": "2024-01-08T19:16:43.589137Z"
    },
    "papermill": {
     "duration": 0.093018,
     "end_time": "2024-01-08T19:16:43.592762",
     "exception": false,
     "start_time": "2024-01-08T19:16:43.499744",
     "status": "completed"
    },
    "tags": []
   },
   "outputs": [],
   "source": [
    "def trans(df):\n",
    "    if df == 'train':\n",
    "        train_new = train.drop(['CustomerId','Surname','id'], axis= 1)\n",
    "        train_new['Tenure'] = train_new['Tenure'].astype('category')\n",
    "        train_new['NumOfProducts'] = train_new['NumOfProducts'].astype('category')\n",
    "        train_new = pd.get_dummies(train_new)\n",
    "        train_new_normal = train_new[['CreditScore', 'Age', 'Balance', 'HasCrCard', 'IsActiveMember',\n",
    "           'EstimatedSalary', 'Exited']]\n",
    "        train_new_ord = train_new[['Geography_France', 'Geography_Germany',\n",
    "           'Geography_Spain', 'Gender_Female', 'Gender_Male', 'Tenure_0',\n",
    "           'Tenure_1', 'Tenure_2', 'Tenure_3', 'Tenure_4', 'Tenure_5', 'Tenure_6',\n",
    "           'Tenure_7', 'Tenure_8', 'Tenure_9', 'Tenure_10', 'NumOfProducts_1',\n",
    "           'NumOfProducts_2', 'NumOfProducts_3', 'NumOfProducts_4']]\n",
    "        train_new_ord = train_new_ord.apply(lambda x:transform(x))\n",
    "        train_new = pd.concat([train_new_normal,train_new_ord], axis = 1)\n",
    "        from sklearn.preprocessing import StandardScaler\n",
    "        sc = StandardScaler()\n",
    "        x = sc.fit_transform(train_new.drop('Exited', axis = 1))\n",
    "        y = train_new[['Exited']]\n",
    "        return x,y\n",
    "    else:\n",
    "        test_new = test.drop(['CustomerId','Surname','id'], axis= 1)\n",
    "        test_new['Tenure'] = test_new['Tenure'].astype('category')\n",
    "        test_new['NumOfProducts'] = test_new['NumOfProducts'].astype('category')\n",
    "        test_new = pd.get_dummies(test_new)\n",
    "        test_new_normal = test_new[['CreditScore', 'Age', 'Balance', 'HasCrCard', 'IsActiveMember',\n",
    "           'EstimatedSalary']]\n",
    "        test_new_ord = test_new[['Geography_France', 'Geography_Germany',\n",
    "           'Geography_Spain', 'Gender_Female', 'Gender_Male', 'Tenure_0',\n",
    "           'Tenure_1', 'Tenure_2', 'Tenure_3', 'Tenure_4', 'Tenure_5', 'Tenure_6',\n",
    "           'Tenure_7', 'Tenure_8', 'Tenure_9', 'Tenure_10', 'NumOfProducts_1',\n",
    "           'NumOfProducts_2', 'NumOfProducts_3', 'NumOfProducts_4']]\n",
    "        test_new_ord = test_new_ord.apply(lambda x:transform(x))\n",
    "        test_new = pd.concat([test_new_normal,test_new_ord], axis = 1)\n",
    "        from sklearn.preprocessing import StandardScaler\n",
    "        sc = StandardScaler()\n",
    "        x = sc.fit_transform(test_new)\n",
    "        return x"
   ]
  },
  {
   "cell_type": "code",
   "execution_count": 7,
   "id": "056c674d",
   "metadata": {
    "execution": {
     "iopub.execute_input": "2024-01-08T19:16:43.602265Z",
     "iopub.status.busy": "2024-01-08T19:16:43.601936Z",
     "iopub.status.idle": "2024-01-08T19:16:45.201173Z",
     "shell.execute_reply": "2024-01-08T19:16:45.200264Z"
    },
    "papermill": {
     "duration": 1.60666,
     "end_time": "2024-01-08T19:16:45.203615",
     "exception": false,
     "start_time": "2024-01-08T19:16:43.596955",
     "status": "completed"
    },
    "tags": []
   },
   "outputs": [],
   "source": [
    "p,py = trans('train')"
   ]
  },
  {
   "cell_type": "code",
   "execution_count": 8,
   "id": "41bd722c",
   "metadata": {
    "execution": {
     "iopub.execute_input": "2024-01-08T19:16:45.213023Z",
     "iopub.status.busy": "2024-01-08T19:16:45.212698Z",
     "iopub.status.idle": "2024-01-08T19:16:45.527044Z",
     "shell.execute_reply": "2024-01-08T19:16:45.525997Z"
    },
    "papermill": {
     "duration": 0.321922,
     "end_time": "2024-01-08T19:16:45.529562",
     "exception": false,
     "start_time": "2024-01-08T19:16:45.207640",
     "status": "completed"
    },
    "tags": []
   },
   "outputs": [],
   "source": [
    "from sklearn.ensemble import RandomForestClassifier\n",
    "rf = RandomForestClassifier(n_estimators = 400,max_features = \"sqrt\",oob_score = True,random_state = 3,verbose = 1,class_weight = 'balanced_subsample')"
   ]
  },
  {
   "cell_type": "code",
   "execution_count": 9,
   "id": "aaa2141c",
   "metadata": {
    "execution": {
     "iopub.execute_input": "2024-01-08T19:16:45.539052Z",
     "iopub.status.busy": "2024-01-08T19:16:45.538724Z",
     "iopub.status.idle": "2024-01-08T19:19:22.035818Z",
     "shell.execute_reply": "2024-01-08T19:19:22.034712Z"
    },
    "papermill": {
     "duration": 156.505078,
     "end_time": "2024-01-08T19:19:22.038653",
     "exception": false,
     "start_time": "2024-01-08T19:16:45.533575",
     "status": "completed"
    },
    "tags": []
   },
   "outputs": [
    {
     "name": "stderr",
     "output_type": "stream",
     "text": [
      "/tmp/ipykernel_18/3911038217.py:1: DataConversionWarning: A column-vector y was passed when a 1d array was expected. Please change the shape of y to (n_samples,), for example using ravel().\n",
      "  rf = rf.fit(p,py)\n",
      "[Parallel(n_jobs=1)]: Done  49 tasks      | elapsed:   18.2s\n",
      "[Parallel(n_jobs=1)]: Done 199 tasks      | elapsed:  1.2min\n"
     ]
    }
   ],
   "source": [
    "rf = rf.fit(p,py)"
   ]
  },
  {
   "cell_type": "code",
   "execution_count": 10,
   "id": "d8c4b531",
   "metadata": {
    "execution": {
     "iopub.execute_input": "2024-01-08T19:19:22.048858Z",
     "iopub.status.busy": "2024-01-08T19:19:22.048480Z",
     "iopub.status.idle": "2024-01-08T19:19:22.295317Z",
     "shell.execute_reply": "2024-01-08T19:19:22.294441Z"
    },
    "papermill": {
     "duration": 0.254659,
     "end_time": "2024-01-08T19:19:22.297816",
     "exception": false,
     "start_time": "2024-01-08T19:19:22.043157",
     "status": "completed"
    },
    "tags": []
   },
   "outputs": [],
   "source": [
    "test = pd.read_csv(\"/kaggle/input/playground-series-s4e1/test.csv\")"
   ]
  },
  {
   "cell_type": "code",
   "execution_count": 11,
   "id": "c1a3c31d",
   "metadata": {
    "execution": {
     "iopub.execute_input": "2024-01-08T19:19:22.308840Z",
     "iopub.status.busy": "2024-01-08T19:19:22.308040Z",
     "iopub.status.idle": "2024-01-08T19:19:23.256285Z",
     "shell.execute_reply": "2024-01-08T19:19:23.255411Z"
    },
    "papermill": {
     "duration": 0.956428,
     "end_time": "2024-01-08T19:19:23.258738",
     "exception": false,
     "start_time": "2024-01-08T19:19:22.302310",
     "status": "completed"
    },
    "tags": []
   },
   "outputs": [],
   "source": [
    "test = trans('test')"
   ]
  },
  {
   "cell_type": "code",
   "execution_count": 12,
   "id": "3209b49f",
   "metadata": {
    "execution": {
     "iopub.execute_input": "2024-01-08T19:19:23.268451Z",
     "iopub.status.busy": "2024-01-08T19:19:23.268097Z",
     "iopub.status.idle": "2024-01-08T19:19:37.896564Z",
     "shell.execute_reply": "2024-01-08T19:19:37.895649Z"
    },
    "papermill": {
     "duration": 14.636017,
     "end_time": "2024-01-08T19:19:37.899060",
     "exception": false,
     "start_time": "2024-01-08T19:19:23.263043",
     "status": "completed"
    },
    "tags": []
   },
   "outputs": [
    {
     "name": "stderr",
     "output_type": "stream",
     "text": [
      "[Parallel(n_jobs=1)]: Done  49 tasks      | elapsed:    1.8s\n",
      "[Parallel(n_jobs=1)]: Done 199 tasks      | elapsed:    7.3s\n"
     ]
    }
   ],
   "source": [
    "d = rf.predict(test)"
   ]
  },
  {
   "cell_type": "code",
   "execution_count": null,
   "id": "ead0cd5b",
   "metadata": {
    "papermill": {
     "duration": 0.004022,
     "end_time": "2024-01-08T19:19:37.907725",
     "exception": false,
     "start_time": "2024-01-08T19:19:37.903703",
     "status": "completed"
    },
    "tags": []
   },
   "outputs": [],
   "source": []
  }
 ],
 "metadata": {
  "kaggle": {
   "accelerator": "none",
   "dataSources": [
    {
     "databundleVersionId": 7405009,
     "sourceId": 65711,
     "sourceType": "competition"
    }
   ],
   "dockerImageVersionId": 30626,
   "isGpuEnabled": false,
   "isInternetEnabled": true,
   "language": "python",
   "sourceType": "notebook"
  },
  "kernelspec": {
   "display_name": "Python 3",
   "language": "python",
   "name": "python3"
  },
  "language_info": {
   "codemirror_mode": {
    "name": "ipython",
    "version": 3
   },
   "file_extension": ".py",
   "mimetype": "text/x-python",
   "name": "python",
   "nbconvert_exporter": "python",
   "pygments_lexer": "ipython3",
   "version": "3.10.12"
  },
  "papermill": {
   "default_parameters": {},
   "duration": 180.191559,
   "end_time": "2024-01-08T19:19:38.633861",
   "environment_variables": {},
   "exception": null,
   "input_path": "__notebook__.ipynb",
   "output_path": "__notebook__.ipynb",
   "parameters": {},
   "start_time": "2024-01-08T19:16:38.442302",
   "version": "2.4.0"
  }
 },
 "nbformat": 4,
 "nbformat_minor": 5
}
